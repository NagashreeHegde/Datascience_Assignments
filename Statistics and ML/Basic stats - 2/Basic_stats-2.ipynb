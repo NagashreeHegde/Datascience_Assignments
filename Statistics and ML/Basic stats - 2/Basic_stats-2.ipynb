{
 "cells": [
  {
   "cell_type": "code",
   "execution_count": 81,
   "id": "147397e4-faf1-4e24-92e1-997e31c008ad",
   "metadata": {},
   "outputs": [],
   "source": [
    "## 1.importing numpy(to create array and get basic information like mean, std of data) and stats package( for statistical operations)\n",
    "import numpy as np\n",
    "import scipy.stats as stats"
   ]
  },
  {
   "cell_type": "code",
   "execution_count": 83,
   "id": "fed6797b-ed56-42c3-9dca-95a57109c1f0",
   "metadata": {},
   "outputs": [
    {
     "data": {
      "text/plain": [
       "array([1.13, 1.55, 1.43, 0.92, 1.25, 1.36, 1.32, 0.85, 1.07, 1.48, 1.2 ,\n",
       "       1.33, 1.18, 1.22, 1.29])"
      ]
     },
     "execution_count": 83,
     "metadata": {},
     "output_type": "execute_result"
    }
   ],
   "source": [
    "## 2. creating array using numpy\n",
    "data=np.array([1.13, 1.55, 1.43, 0.92, 1.25, 1.36, 1.32, 0.85, 1.07, 1.48, 1.20, 1.33, 1.18, 1.22, 1.29])\n",
    "data"
   ]
  },
  {
   "cell_type": "code",
   "execution_count": 189,
   "id": "e7cb735a-51ef-4558-858d-b3610f656d8d",
   "metadata": {},
   "outputs": [
    {
     "data": {
      "text/plain": [
       "1.2386666666666666"
      ]
     },
     "execution_count": 189,
     "metadata": {},
     "output_type": "execute_result"
    }
   ],
   "source": [
    "## 3.calculating sample mean \n",
    "x_bar=np.mean(data)\n",
    "x_bar"
   ]
  },
  {
   "cell_type": "code",
   "execution_count": 87,
   "id": "fa94874d-d053-4c78-92e0-27b97105de45",
   "metadata": {},
   "outputs": [
    {
     "data": {
      "text/plain": [
       "0.19316412956959936"
      ]
     },
     "execution_count": 87,
     "metadata": {},
     "output_type": "execute_result"
    }
   ],
   "source": [
    "## 3.calculating sample standard deviation\n",
    "s=np.std(data,ddof=1)\n",
    "s"
   ]
  },
  {
   "cell_type": "code",
   "execution_count": 89,
   "id": "2dd03c8c-a3b1-4c5b-98ea-d7d5f3c9d3d6",
   "metadata": {},
   "outputs": [
    {
     "data": {
      "text/plain": [
       "15"
      ]
     },
     "execution_count": 89,
     "metadata": {},
     "output_type": "execute_result"
    }
   ],
   "source": [
    "## 3.calculating size of the data \n",
    "n=np.size(data)\n",
    "n"
   ]
  },
  {
   "cell_type": "markdown",
   "id": "8b8d37dd-4350-4938-b0ee-4912e786eaeb",
   "metadata": {},
   "source": [
    "####  the sample size is less than 30..therefore we use t-test"
   ]
  },
  {
   "cell_type": "markdown",
   "id": "dba33610-8c82-4e59-a3da-331b8522769e",
   "metadata": {},
   "source": [
    "## a. Build 99% Confidence Interval Using Sample Standard Deviation"
   ]
  },
  {
   "cell_type": "code",
   "execution_count": 185,
   "id": "cab8285d-235f-4f3d-a939-c7fa861b87a3",
   "metadata": {},
   "outputs": [
    {
     "data": {
      "text/plain": [
       "2.976842734370834"
      ]
     },
     "execution_count": 185,
     "metadata": {},
     "output_type": "execute_result"
    }
   ],
   "source": [
    "## 4.finding t critical value\n",
    "## 99% confidence..alpha=1-CI\n",
    "alpha=0.01\n",
    "t_critic=stats.t.ppf(1-alpha/2,n-1)\n",
    "t_critic"
   ]
  },
  {
   "cell_type": "code",
   "execution_count": 152,
   "id": "61687061-fb17-4486-b8ba-16526bb591c7",
   "metadata": {},
   "outputs": [
    {
     "data": {
      "text/plain": [
       "0.14846932822817596"
      ]
     },
     "execution_count": 152,
     "metadata": {},
     "output_type": "execute_result"
    }
   ],
   "source": [
    "## 5.calculating error bound using  formula : t_critical*(sample std/sqrt(size_of_data))\n",
    "error_bound=t_critic*(s/np.sqrt(n))\n",
    "error_bound"
   ]
  },
  {
   "cell_type": "code",
   "execution_count": 154,
   "id": "4ca8eb69-a825-44bb-82b1-4c86cfe5b08f",
   "metadata": {},
   "outputs": [
    {
     "data": {
      "text/plain": [
       "1.0901973384384906"
      ]
     },
     "execution_count": 154,
     "metadata": {},
     "output_type": "execute_result"
    }
   ],
   "source": [
    "## 6. calculating lower bound and upper bound by subtract and adding sample_mean to error_bound.\n",
    "lower_bound_of_pop_mean=x_bar-error_bound\n",
    "lower_bound_of_pop_mean"
   ]
  },
  {
   "cell_type": "code",
   "execution_count": 156,
   "id": "59413cfd-6e27-465c-983e-dcd6be776f32",
   "metadata": {},
   "outputs": [
    {
     "data": {
      "text/plain": [
       "1.3871359948948425"
      ]
     },
     "execution_count": 156,
     "metadata": {},
     "output_type": "execute_result"
    }
   ],
   "source": [
    "higher_bound_of_pop_mean=x_bar+error_bound\n",
    "higher_bound_of_pop_mean"
   ]
  },
  {
   "cell_type": "markdown",
   "id": "6f21d84a-8b4a-41bb-b414-ce85c992268f",
   "metadata": {},
   "source": [
    "#### pop_mean rangers from 1.09 to 1.39\n",
    "#### From this we can conclude that: 1.09 to 1.39 millian number of characters printed before the print-head fails "
   ]
  },
  {
   "cell_type": "code",
   "execution_count": null,
   "id": "0543999c-fc2d-4652-8ddd-b9369dc62f38",
   "metadata": {},
   "outputs": [],
   "source": []
  },
  {
   "cell_type": "markdown",
   "id": "48dcd25e-9b03-4e98-b211-9d1934419b03",
   "metadata": {},
   "source": [
    "## b. Build 99% Confidence Interval Using Known Population Standard Deviation"
   ]
  },
  {
   "cell_type": "code",
   "execution_count": 197,
   "id": "2031dc1f-0721-4b99-836c-0ff2db1da7ee",
   "metadata": {},
   "outputs": [],
   "source": [
    "## when pop_std is given we use z_test instead of t-test\n",
    "pop_std=0.2"
   ]
  },
  {
   "cell_type": "code",
   "execution_count": 199,
   "id": "3576a97a-9b88-4b80-8728-bc12f67d8eb7",
   "metadata": {},
   "outputs": [
    {
     "data": {
      "text/plain": [
       "2.5758293035489004"
      ]
     },
     "execution_count": 199,
     "metadata": {},
     "output_type": "execute_result"
    }
   ],
   "source": [
    "z_critic=stats.norm.ppf(1-alpha/2)\n",
    "z_critic"
   ]
  },
  {
   "cell_type": "code",
   "execution_count": 201,
   "id": "fbcc7a2c-b685-4d36-99a3-6ed6767631f2",
   "metadata": {},
   "outputs": [
    {
     "data": {
      "text/plain": [
       "0.13301525327090588"
      ]
     },
     "execution_count": 201,
     "metadata": {},
     "output_type": "execute_result"
    }
   ],
   "source": [
    "error_bound=z_critic*(pop_std/np.sqrt(n))\n",
    "error_bound"
   ]
  },
  {
   "cell_type": "code",
   "execution_count": 203,
   "id": "a405c67f-1991-4245-a37e-6aa24f46f4da",
   "metadata": {},
   "outputs": [
    {
     "data": {
      "text/plain": [
       "1.1056514133957607"
      ]
     },
     "execution_count": 203,
     "metadata": {},
     "output_type": "execute_result"
    }
   ],
   "source": [
    "## 6. calculating lower bound and upper bound by subtract and adding sample_mean to error_bound.\n",
    "lower_bound_of_pop_mean=x_bar-error_bound\n",
    "lower_bound_of_pop_mean"
   ]
  },
  {
   "cell_type": "code",
   "execution_count": 205,
   "id": "07f1f383-33f7-4cb4-826a-bed09900b0a9",
   "metadata": {},
   "outputs": [
    {
     "data": {
      "text/plain": [
       "1.3716819199375725"
      ]
     },
     "execution_count": 205,
     "metadata": {},
     "output_type": "execute_result"
    }
   ],
   "source": [
    "higher_bound_of_pop_mean=x_bar+error_bound\n",
    "higher_bound_of_pop_mean"
   ]
  },
  {
   "cell_type": "markdown",
   "id": "de73aaae-cfd3-4d01-ad5d-f4556f23c10f",
   "metadata": {},
   "source": [
    "#### pop_mean rangers from 1.11 to 1.37\n",
    "#### From this we can conclude that: 1.11 to 1.37 millian number of characters printed before the print-head fails¶"
   ]
  },
  {
   "cell_type": "code",
   "execution_count": null,
   "id": "6a7a9164-7f8c-4ffc-b304-25c1d20a609d",
   "metadata": {},
   "outputs": [],
   "source": []
  },
  {
   "cell_type": "code",
   "execution_count": null,
   "id": "4ca9f2bc-83bb-4339-a10a-2e4905127a25",
   "metadata": {},
   "outputs": [],
   "source": []
  }
 ],
 "metadata": {
  "kernelspec": {
   "display_name": "Python 3 (ipykernel)",
   "language": "python",
   "name": "python3"
  },
  "language_info": {
   "codemirror_mode": {
    "name": "ipython",
    "version": 3
   },
   "file_extension": ".py",
   "mimetype": "text/x-python",
   "name": "python",
   "nbconvert_exporter": "python",
   "pygments_lexer": "ipython3",
   "version": "3.12.4"
  }
 },
 "nbformat": 4,
 "nbformat_minor": 5
}
