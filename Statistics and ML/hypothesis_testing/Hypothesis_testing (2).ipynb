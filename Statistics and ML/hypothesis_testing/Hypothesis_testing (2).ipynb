{
 "cells": [
  {
   "cell_type": "code",
   "execution_count": 5,
   "id": "c7f262d1-96f3-42c5-a8a2-528a50690f1d",
   "metadata": {},
   "outputs": [],
   "source": [
    "n=25\n",
    "samp_mean=3050\n",
    "pop_std=25*5\n",
    "pop_mean=1000+5*600"
   ]
  },
  {
   "cell_type": "code",
   "execution_count": 7,
   "id": "841a2f6b-8a9d-48d1-a2ee-63205bbfe701",
   "metadata": {},
   "outputs": [],
   "source": [
    "import numpy as np\n",
    "import scipy.stats as stats"
   ]
  },
  {
   "cell_type": "markdown",
   "id": "fa87921f-86bd-4bc3-86b4-90dffb771d31",
   "metadata": {},
   "source": [
    "##### we know the pop_std we can use Z_test to check the hypothesis\n",
    "##### Z_test is one of the hypothesis testing method...used to prove some some assumption is correct or not.\n",
    "##### First we need to state the null and alternative hypothesis if z_stats value calculated from formula  crosses the acceptance region(boundiers of z_critical ) then that is the evidence to reject the null hypothesis and alternative hypothesis is became true.\n",
    "##### Or  can also use pValue to reject null hypothesis (if p value is greater than alpha null hypothesis will get rejected.)\n"
   ]
  },
  {
   "cell_type": "code",
   "execution_count": 8,
   "id": "2142877d-dec8-4576-a1a5-05476caf0f13",
   "metadata": {},
   "outputs": [],
   "source": [
    "##  1. State the Hypotheses statement:"
   ]
  },
  {
   "cell_type": "markdown",
   "id": "7e888dc3-3c1d-449e-a451-2fb6a50c0ff9",
   "metadata": {},
   "source": [
    "##### w=3050\n",
    "##### H0: w = $1,000 + $5X --->weekly operating costs is not increaded\n",
    "##### Ha: w < $1,000 + $5X --->weekly operating costs increased"
   ]
  },
  {
   "cell_type": "code",
   "execution_count": 58,
   "id": "b8420d44-8119-4db4-9c8d-a4a152c7d4c2",
   "metadata": {},
   "outputs": [],
   "source": [
    "## 2. Calculate the Test Statistic:"
   ]
  },
  {
   "cell_type": "code",
   "execution_count": 82,
   "id": "61703840-aaac-4c5b-b7dd-139ae23456c4",
   "metadata": {},
   "outputs": [
    {
     "data": {
      "text/plain": [
       "-38.0"
      ]
     },
     "execution_count": 82,
     "metadata": {},
     "output_type": "execute_result"
    }
   ],
   "source": [
    "z_stats=(samp_mean-pop_mean)/(pop_std/np.sqrt(n))\n",
    "z_stats"
   ]
  },
  {
   "cell_type": "code",
   "execution_count": 84,
   "id": "079388ad-950d-4aec-8250-06744308ec7e",
   "metadata": {},
   "outputs": [
    {
     "data": {
      "text/plain": [
       "1.6448536269514722"
      ]
     },
     "execution_count": 84,
     "metadata": {},
     "output_type": "execute_result"
    }
   ],
   "source": [
    "z_critic=stats.norm.ppf(0.95)\n",
    "z_critic"
   ]
  },
  {
   "cell_type": "code",
   "execution_count": null,
   "id": "8d5841a4-308d-4680-a85c-ee3f129bcb65",
   "metadata": {},
   "outputs": [],
   "source": [
    "## z_stats cross the z_critic value,therefore null hypothesis get rejected."
   ]
  },
  {
   "cell_type": "markdown",
   "id": "20cb35bf-6c44-432d-bb31-f520d5291fb0",
   "metadata": {},
   "source": [
    "##### By this we can conclude that:\n",
    "##### Weekly operating cost is increased as the owner's claim."
   ]
  },
  {
   "cell_type": "code",
   "execution_count": null,
   "id": "1bff281c-0302-4fef-969a-0cf17fb165e2",
   "metadata": {},
   "outputs": [],
   "source": []
  }
 ],
 "metadata": {
  "kernelspec": {
   "display_name": "Python 3 (ipykernel)",
   "language": "python",
   "name": "python3"
  },
  "language_info": {
   "codemirror_mode": {
    "name": "ipython",
    "version": 3
   },
   "file_extension": ".py",
   "mimetype": "text/x-python",
   "name": "python",
   "nbconvert_exporter": "python",
   "pygments_lexer": "ipython3",
   "version": "3.12.4"
  }
 },
 "nbformat": 4,
 "nbformat_minor": 5
}
