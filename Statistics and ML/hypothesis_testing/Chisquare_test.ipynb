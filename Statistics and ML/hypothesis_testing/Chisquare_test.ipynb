{
 "cells": [
  {
   "cell_type": "code",
   "execution_count": 57,
   "id": "39c1f930-592d-4169-bc2d-75e2c38418ab",
   "metadata": {},
   "outputs": [],
   "source": [
    "## Creating  dictionary\n",
    "dict={'Satisfaction':['VerySatisfied','Satisfied','Neutral','Unsatisfied','VeryUnsatisfied','Total'],\n",
    "'Smart_Thermostat':[50,80,60,30,20,240],\n",
    "'Smart_Light':[70,100,90,50,50,360],\n",
    "'Total':[120,180,150,80,70,600]\n",
    "}"
   ]
  },
  {
   "cell_type": "code",
   "execution_count": 59,
   "id": "09cf4919-771b-45b8-a91a-6a849b27955a",
   "metadata": {},
   "outputs": [],
   "source": [
    "## Importing required libraries\n",
    "import pandas as pd\n",
    "import matplotlib.pyplot as plt\n",
    "import numpy as np\n",
    "import scipy.stats as stats"
   ]
  },
  {
   "cell_type": "code",
   "execution_count": null,
   "id": "aba49f8f-5098-4a96-b9df-cf1313498416",
   "metadata": {},
   "outputs": [],
   "source": []
  },
  {
   "cell_type": "code",
   "execution_count": 122,
   "id": "57999974-72dd-44de-b945-19ffb58c06b5",
   "metadata": {},
   "outputs": [],
   "source": [
    "## creating dataframe using dict dictionary\n",
    "df=pd.DataFrame(dict,index=None)"
   ]
  },
  {
   "cell_type": "code",
   "execution_count": 124,
   "id": "b6704bcf-66c3-4eff-9b20-d12b3ea37285",
   "metadata": {},
   "outputs": [
    {
     "data": {
      "text/html": [
       "<div>\n",
       "<style scoped>\n",
       "    .dataframe tbody tr th:only-of-type {\n",
       "        vertical-align: middle;\n",
       "    }\n",
       "\n",
       "    .dataframe tbody tr th {\n",
       "        vertical-align: top;\n",
       "    }\n",
       "\n",
       "    .dataframe thead th {\n",
       "        text-align: right;\n",
       "    }\n",
       "</style>\n",
       "<table border=\"1\" class=\"dataframe\">\n",
       "  <thead>\n",
       "    <tr style=\"text-align: right;\">\n",
       "      <th></th>\n",
       "      <th>Satisfaction</th>\n",
       "      <th>Smart_Thermostat</th>\n",
       "      <th>Smart_Light</th>\n",
       "      <th>Total</th>\n",
       "    </tr>\n",
       "  </thead>\n",
       "  <tbody>\n",
       "    <tr>\n",
       "      <th>0</th>\n",
       "      <td>VerySatisfied</td>\n",
       "      <td>50</td>\n",
       "      <td>70</td>\n",
       "      <td>120</td>\n",
       "    </tr>\n",
       "    <tr>\n",
       "      <th>1</th>\n",
       "      <td>Satisfied</td>\n",
       "      <td>80</td>\n",
       "      <td>100</td>\n",
       "      <td>180</td>\n",
       "    </tr>\n",
       "    <tr>\n",
       "      <th>2</th>\n",
       "      <td>Neutral</td>\n",
       "      <td>60</td>\n",
       "      <td>90</td>\n",
       "      <td>150</td>\n",
       "    </tr>\n",
       "    <tr>\n",
       "      <th>3</th>\n",
       "      <td>Unsatisfied</td>\n",
       "      <td>30</td>\n",
       "      <td>50</td>\n",
       "      <td>80</td>\n",
       "    </tr>\n",
       "    <tr>\n",
       "      <th>4</th>\n",
       "      <td>VeryUnsatisfied</td>\n",
       "      <td>20</td>\n",
       "      <td>50</td>\n",
       "      <td>70</td>\n",
       "    </tr>\n",
       "    <tr>\n",
       "      <th>5</th>\n",
       "      <td>Total</td>\n",
       "      <td>240</td>\n",
       "      <td>360</td>\n",
       "      <td>600</td>\n",
       "    </tr>\n",
       "  </tbody>\n",
       "</table>\n",
       "</div>"
      ],
      "text/plain": [
       "      Satisfaction  Smart_Thermostat  Smart_Light  Total\n",
       "0    VerySatisfied                50           70    120\n",
       "1        Satisfied                80          100    180\n",
       "2          Neutral                60           90    150\n",
       "3      Unsatisfied                30           50     80\n",
       "4  VeryUnsatisfied                20           50     70\n",
       "5            Total               240          360    600"
      ]
     },
     "execution_count": 124,
     "metadata": {},
     "output_type": "execute_result"
    }
   ],
   "source": [
    "df"
   ]
  },
  {
   "cell_type": "markdown",
   "id": "1f6eea0a-c2b0-44aa-9ef2-0039d502d6fd",
   "metadata": {},
   "source": [
    "#### Chisqare: It is one of the method of hypothesis testing used to find the between two categorical variables\n",
    "#### or to assess how well observed frequencies match expected frequencies."
   ]
  },
  {
   "cell_type": "markdown",
   "id": "65f60fc3-598f-4ebb-91fd-970a1bb963bd",
   "metadata": {},
   "source": [
    "#### Here we are using chisquare to check the independence between the smart home device purchased (Smart Thermostats vs. Smart Lights)\n",
    "#### and the customer satisfaction level.Here are the steps to check the association between these two"
   ]
  },
  {
   "cell_type": "markdown",
   "id": "9e8af009-d966-45de-aba4-c32a53778f66",
   "metadata": {},
   "source": [
    "#### 1. State the Hypotheses:\n",
    "##### H0 :there's no significant association between the type of smart home device purchased (Smart Thermostats vs. Smart Lights) and the customer satisfaction level.\n",
    "##### Ha :there's a significant association between the type of smart home device purchased (Smart Thermostats vs. Smart Lights) and the customer satisfaction level."
   ]
  },
  {
   "cell_type": "code",
   "execution_count": 69,
   "id": "ac74db2e-c913-4091-be8e-b9d7bd1bec22",
   "metadata": {},
   "outputs": [],
   "source": [
    "#### 2. Compute the Chi-Square Statistic:  chi2 test of independence"
   ]
  },
  {
   "cell_type": "code",
   "execution_count": 151,
   "id": "69c84c31-185c-46a8-b66f-7426f7e3bf08",
   "metadata": {},
   "outputs": [
    {
     "data": {
      "text/html": [
       "<div>\n",
       "<style scoped>\n",
       "    .dataframe tbody tr th:only-of-type {\n",
       "        vertical-align: middle;\n",
       "    }\n",
       "\n",
       "    .dataframe tbody tr th {\n",
       "        vertical-align: top;\n",
       "    }\n",
       "\n",
       "    .dataframe thead th {\n",
       "        text-align: right;\n",
       "    }\n",
       "</style>\n",
       "<table border=\"1\" class=\"dataframe\">\n",
       "  <thead>\n",
       "    <tr style=\"text-align: right;\">\n",
       "      <th></th>\n",
       "      <th>Smart_Thermostat</th>\n",
       "      <th>Smart_Light</th>\n",
       "    </tr>\n",
       "  </thead>\n",
       "  <tbody>\n",
       "    <tr>\n",
       "      <th>0</th>\n",
       "      <td>50</td>\n",
       "      <td>70</td>\n",
       "    </tr>\n",
       "    <tr>\n",
       "      <th>1</th>\n",
       "      <td>80</td>\n",
       "      <td>100</td>\n",
       "    </tr>\n",
       "    <tr>\n",
       "      <th>2</th>\n",
       "      <td>60</td>\n",
       "      <td>90</td>\n",
       "    </tr>\n",
       "    <tr>\n",
       "      <th>3</th>\n",
       "      <td>30</td>\n",
       "      <td>50</td>\n",
       "    </tr>\n",
       "    <tr>\n",
       "      <th>4</th>\n",
       "      <td>20</td>\n",
       "      <td>50</td>\n",
       "    </tr>\n",
       "  </tbody>\n",
       "</table>\n",
       "</div>"
      ],
      "text/plain": [
       "   Smart_Thermostat  Smart_Light\n",
       "0                50           70\n",
       "1                80          100\n",
       "2                60           90\n",
       "3                30           50\n",
       "4                20           50"
      ]
     },
     "execution_count": 151,
     "metadata": {},
     "output_type": "execute_result"
    }
   ],
   "source": [
    "observed=df.iloc[0:5,1:3]\n",
    "observed"
   ]
  },
  {
   "cell_type": "code",
   "execution_count": 153,
   "id": "d15c430f-c141-4758-aa8a-b6f2104cd60a",
   "metadata": {},
   "outputs": [],
   "source": [
    "chi2,pvalue,dof,expected_freq=stats.chi2_contingency(observed)"
   ]
  },
  {
   "cell_type": "code",
   "execution_count": 155,
   "id": "3df4cca9-e400-4bf3-ac31-8ea5fee262e6",
   "metadata": {},
   "outputs": [
    {
     "data": {
      "text/plain": [
       "(5.638227513227513, 4, 0.22784371130697179)"
      ]
     },
     "execution_count": 155,
     "metadata": {},
     "output_type": "execute_result"
    }
   ],
   "source": [
    "chi2,dof,pvalue"
   ]
  },
  {
   "cell_type": "code",
   "execution_count": 157,
   "id": "2f918b28-9b9b-4dcd-9c24-5a982433cdff",
   "metadata": {},
   "outputs": [
    {
     "data": {
      "text/plain": [
       "9.487729036781154"
      ]
     },
     "execution_count": 157,
     "metadata": {},
     "output_type": "execute_result"
    }
   ],
   "source": [
    "## 3. 3. Determine the Critical Value: using alpha 0.05 %\n",
    "chi2_critic=stats.chi2.ppf(0.95,4)\n",
    "chi2_critic"
   ]
  },
  {
   "cell_type": "markdown",
   "id": "f93304df-d745-489e-9329-ac139e41b8d0",
   "metadata": {},
   "source": [
    "#### chi2_critic > chi2_stat  and   pvalue > alpha value\n",
    "#### therefore reject null hypothesis"
   ]
  },
  {
   "cell_type": "markdown",
   "id": "957245fb-880d-47f6-a748-b4e975573792",
   "metadata": {},
   "source": [
    "### Frome this we can conclude that there's a significant association between the type of smart home device purchased (Smart Thermostats vs. Smart Lights) and the customer satisfaction level."
   ]
  },
  {
   "cell_type": "code",
   "execution_count": null,
   "id": "660d0b9b-0b4e-40e8-8614-7228545b2fee",
   "metadata": {},
   "outputs": [],
   "source": []
  },
  {
   "cell_type": "code",
   "execution_count": null,
   "id": "43419e57-9e0f-46f5-8547-0fd1eba06c8a",
   "metadata": {},
   "outputs": [],
   "source": []
  },
  {
   "cell_type": "code",
   "execution_count": null,
   "id": "8ecb835b-17e5-4760-a4c7-38cecf219122",
   "metadata": {},
   "outputs": [],
   "source": []
  },
  {
   "cell_type": "code",
   "execution_count": null,
   "id": "5c51b290-393b-4ad2-bf6c-15a0e8a63787",
   "metadata": {},
   "outputs": [],
   "source": []
  },
  {
   "cell_type": "code",
   "execution_count": null,
   "id": "51e679d8-f7a5-46f5-a616-67eceee3f7b7",
   "metadata": {},
   "outputs": [],
   "source": []
  },
  {
   "cell_type": "code",
   "execution_count": null,
   "id": "75019809-84ee-4384-8916-6e2e144906a7",
   "metadata": {},
   "outputs": [],
   "source": []
  },
  {
   "cell_type": "code",
   "execution_count": null,
   "id": "17350669-83f9-4da7-96ea-1249c00f3599",
   "metadata": {},
   "outputs": [],
   "source": []
  },
  {
   "cell_type": "code",
   "execution_count": null,
   "id": "88cfcb5d-36bf-44c4-ae0c-c6ae8475cf2a",
   "metadata": {},
   "outputs": [],
   "source": []
  }
 ],
 "metadata": {
  "kernelspec": {
   "display_name": "Python 3 (ipykernel)",
   "language": "python",
   "name": "python3"
  },
  "language_info": {
   "codemirror_mode": {
    "name": "ipython",
    "version": 3
   },
   "file_extension": ".py",
   "mimetype": "text/x-python",
   "name": "python",
   "nbconvert_exporter": "python",
   "pygments_lexer": "ipython3",
   "version": "3.12.4"
  }
 },
 "nbformat": 4,
 "nbformat_minor": 5
}
